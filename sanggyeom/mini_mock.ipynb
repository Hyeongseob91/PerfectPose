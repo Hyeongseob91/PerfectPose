{
 "cells": [
  {
   "cell_type": "code",
   "execution_count": 6,
   "metadata": {},
   "outputs": [],
   "source": [
    "import json\n",
    "\n",
    "# 📌 JSON 파일 경로\n",
    "json_file_path = \"../LJH/json_output/json_modified.json\"  # JSON 파일 경로\n",
    "\n",
    "# 📌 JSON 파일 읽기\n",
    "with open(json_file_path, \"r\", encoding=\"utf-8\") as file:\n",
    "    json_data = json.load(file)  # JSON을 파이썬 딕셔너리로 변환\n",
    "\n"
   ]
  },
  {
   "cell_type": "code",
   "execution_count": 7,
   "metadata": {},
   "outputs": [
    {
     "data": {
      "text/plain": [
       "139"
      ]
     },
     "execution_count": 7,
     "metadata": {},
     "output_type": "execute_result"
    }
   ],
   "source": [
    "len(json_data)"
   ]
  },
  {
   "cell_type": "code",
   "execution_count": 8,
   "metadata": {},
   "outputs": [
    {
     "name": "stdout",
     "output_type": "stream",
     "text": [
      "{'timestamp': '2025-03-13T12:00:30.081285', 'pose': [{'person_id': 1, 'keypoints': [{'id': 0, 'x': 309, 'y': 188, 'confidence': 0.9888989329338074}, {'id': 1, 'x': 316, 'y': 181, 'confidence': 0.9561294913291931}, {'id': 2, 'x': 303, 'y': 181, 'confidence': 0.969685435295105}, {'id': 3, 'x': 327, 'y': 186, 'confidence': 0.7636668682098389}, {'id': 4, 'x': 292, 'y': 185, 'confidence': 0.8525474071502686}, {'id': 5, 'x': 342, 'y': 226, 'confidence': 0.9962244033813477}, {'id': 6, 'x': 274, 'y': 226, 'confidence': 0.9973616003990173}, {'id': 7, 'x': 356, 'y': 276, 'confidence': 0.9790012240409851}, {'id': 8, 'x': 254, 'y': 275, 'confidence': 0.9873325228691101}, {'id': 9, 'x': 353, 'y': 320, 'confidence': 0.9636470079421997}, {'id': 10, 'x': 267, 'y': 322, 'confidence': 0.9768961071968079}, {'id': 11, 'x': 335, 'y': 328, 'confidence': 0.9982635378837585}, {'id': 12, 'x': 291, 'y': 329, 'confidence': 0.9985866546630859}, {'id': 13, 'x': 340, 'y': 402, 'confidence': 0.9923674464225769}, {'id': 14, 'x': 293, 'y': 400, 'confidence': 0.9941110014915466}, {'id': 15, 'x': 338, 'y': 470, 'confidence': 0.9418372511863708}, {'id': 16, 'x': 300, 'y': 466, 'confidence': 0.9520238637924194}]}], 'image_id': 'frame_00001.jpg'}\n"
     ]
    }
   ],
   "source": [
    "print(json_data[0])"
   ]
  }
 ],
 "metadata": {
  "kernelspec": {
   "display_name": "lang_311",
   "language": "python",
   "name": "python3"
  },
  "language_info": {
   "codemirror_mode": {
    "name": "ipython",
    "version": 3
   },
   "file_extension": ".py",
   "mimetype": "text/x-python",
   "name": "python",
   "nbconvert_exporter": "python",
   "pygments_lexer": "ipython3",
   "version": "3.11.11"
  }
 },
 "nbformat": 4,
 "nbformat_minor": 2
}
